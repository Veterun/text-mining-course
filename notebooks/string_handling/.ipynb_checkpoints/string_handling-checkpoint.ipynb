{
 "metadata": {
  "name": "",
  "signature": "sha256:bdbbe1c0230f003322eb6cb776493efbb56bd04b1217f3b1566e5511b55e8a9f"
 },
 "nbformat": 3,
 "nbformat_minor": 0,
 "worksheets": [
  {
   "cells": [
    {
     "cell_type": "heading",
     "level": 2,
     "metadata": {},
     "source": [
      "Basic String Operations"
     ]
    },
    {
     "cell_type": "markdown",
     "metadata": {},
     "source": [
      "To initialize a string in Python, simply assign text enclosed in either double or single quotations to a variable as below."
     ]
    },
    {
     "cell_type": "code",
     "collapsed": false,
     "input": [
      "example_string = \"Welcome to Text Mining for the Social Sciences.\"\n",
      "example_string = 'Welcome to Text Mining for the Social Sciences.' # equivalent to above"
     ],
     "language": "python",
     "metadata": {},
     "outputs": [],
     "prompt_number": 1
    },
    {
     "cell_type": "markdown",
     "metadata": {},
     "source": [
      "Note that if a quotation mark itself is part of the string, you should use the backslash escape to denote it."
     ]
    },
    {
     "cell_type": "code",
     "collapsed": false,
     "input": [
      "example_string2 = \"I\\'m having fun.\""
     ],
     "language": "python",
     "metadata": {},
     "outputs": [],
     "prompt_number": 2
    },
    {
     "cell_type": "markdown",
     "metadata": {},
     "source": [
      "Once defined, you can index strings just like lists."
     ]
    },
    {
     "cell_type": "code",
     "collapsed": false,
     "input": [
      "print len(example_string) # number of characters (including white spaces)\n",
      "print example_string[0] # first character\n",
      "print example_string[-1] # last character\n",
      "print example_string[-5:] # last five characters"
     ],
     "language": "python",
     "metadata": {},
     "outputs": [
      {
       "output_type": "stream",
       "stream": "stdout",
       "text": [
        "47\n",
        "W\n",
        ".\n",
        "nces.\n"
       ]
      }
     ],
     "prompt_number": 3
    },
    {
     "cell_type": "markdown",
     "metadata": {},
     "source": [
      "To concatenate two strings, we can use the + operator."
     ]
    },
    {
     "cell_type": "code",
     "collapsed": false,
     "input": [
      "example_string = example_string + ' ' + example_string2 # note inclusion of whitespace\n",
      "print example_string"
     ],
     "language": "python",
     "metadata": {},
     "outputs": [
      {
       "output_type": "stream",
       "stream": "stdout",
       "text": [
        "Welcome to Text Mining for the Social Sciences. I'm having fun.\n"
       ]
      }
     ],
     "prompt_number": 4
    },
    {
     "cell_type": "markdown",
     "metadata": {},
     "source": [
      "There are numerous methods once can apply to strings.  For a full list, see the Python documentation, but here we illustrate a few.  First, suppose we want to represent our string as a list of words.  In this case, we can split the string on whitespace."
     ]
    },
    {
     "cell_type": "code",
     "collapsed": false,
     "input": [
      "words = example_string.split() # if no argument passed, split on whitespace\n",
      "print words\n",
      "sentences = example_string.split('.') # split on argument inside string\n",
      "print sentences"
     ],
     "language": "python",
     "metadata": {},
     "outputs": [
      {
       "output_type": "stream",
       "stream": "stdout",
       "text": [
        "['Welcome', 'to', 'Text', 'Mining', 'for', 'the', 'Social', 'Sciences.', \"I'm\", 'having', 'fun.']\n",
        "['Welcome to Text Mining for the Social Sciences', \" I'm having fun\", '']\n"
       ]
      }
     ],
     "prompt_number": 5
    },
    {
     "cell_type": "markdown",
     "metadata": {},
     "source": [
      "If we want to join a list of strings, we can do so with the join method."
     ]
    },
    {
     "cell_type": "code",
     "collapsed": false,
     "input": [
      "original_string = ' '.join(words)\n",
      "print original_string\n",
      "new_string = ' ZZZ '.join(sentences)\n",
      "print new_string"
     ],
     "language": "python",
     "metadata": {},
     "outputs": [
      {
       "output_type": "stream",
       "stream": "stdout",
       "text": [
        "Welcome to Text Mining for the Social Sciences. I'm having fun.\n",
        "Welcome to Text Mining for the Social Sciences ZZZ  I'm having fun ZZZ \n"
       ]
      }
     ],
     "prompt_number": 6
    },
    {
     "cell_type": "markdown",
     "metadata": {},
     "source": [
      "We can also easily change the case of strings."
     ]
    },
    {
     "cell_type": "code",
     "collapsed": false,
     "input": [
      "upper = example_string.upper()\n",
      "print upper\n",
      "lower = example_string.lower()\n",
      "print lower"
     ],
     "language": "python",
     "metadata": {},
     "outputs": [
      {
       "output_type": "stream",
       "stream": "stdout",
       "text": [
        "WELCOME TO TEXT MINING FOR THE SOCIAL SCIENCES. I'M HAVING FUN.\n",
        "welcome to text mining for the social sciences. i'm having fun.\n"
       ]
      }
     ],
     "prompt_number": 7
    },
    {
     "cell_type": "markdown",
     "metadata": {},
     "source": [
      "There are also convenient logical operators that can be applied to strings."
     ]
    },
    {
     "cell_type": "code",
     "collapsed": false,
     "input": [
      "print words[0].isupper()\n",
      "print upper.isupper()\n",
      "print words[0].islower()\n",
      "print words[0].isalpha()\n",
      "print words[-1].isalnum()"
     ],
     "language": "python",
     "metadata": {},
     "outputs": [
      {
       "output_type": "stream",
       "stream": "stdout",
       "text": [
        "False\n",
        "True\n",
        "False\n",
        "True\n",
        "False\n"
       ]
      }
     ],
     "prompt_number": 8
    },
    {
     "cell_type": "heading",
     "level": 2,
     "metadata": {},
     "source": [
      "Reading and Writing Strings"
     ]
    },
    {
     "cell_type": "markdown",
     "metadata": {},
     "source": [
      "The strings we'll handle in most research applications will need to be read in from outside Python.  Most basically, we might read in a string from a file.  Make sure this notebook and the files 'example1.txt' and 'example2.txt' are in the same working directory.  'example1.txt' contains the same string as above, but with each sentence on two lines.  The following code shows how to read in this data."
     ]
    },
    {
     "cell_type": "code",
     "collapsed": false,
     "input": [
      "file_obj = open('example1.txt','r') # this creates a file object\n",
      "raw_data = file_obj.read() # this reads raw data from the file\n",
      "file_obj.close() # this closes the file object"
     ],
     "language": "python",
     "metadata": {},
     "outputs": [],
     "prompt_number": 9
    },
    {
     "cell_type": "markdown",
     "metadata": {},
     "source": [
      "Notice that when we create the file object, we do so by specifying two arguments to 'open'.  The first is the name of the file, enclosed in quotations.  The second specifies the mode in which we open the file.  Here the 'r' refers to read mode.  Other options include 'w' (write mode, overwrites existing file), and 'a' (append mode, appends to existing file).  It is good programming practice to close open file objects.  If you prefer to avoid this, an equivalent way of writing the above code is with a 'with' statement that will close the file object after execution."
     ]
    },
    {
     "cell_type": "code",
     "collapsed": false,
     "input": [
      "with open('example1.txt','r') as file_obj:\n",
      "    raw_data = file_obj.read()"
     ],
     "language": "python",
     "metadata": {},
     "outputs": [],
     "prompt_number": 10
    },
    {
     "cell_type": "markdown",
     "metadata": {},
     "source": [
      "Now let's inspect what actually got read in from the file."
     ]
    },
    {
     "cell_type": "code",
     "collapsed": false,
     "input": [
      "print repr(raw_data) # representation of bytes in raw_data"
     ],
     "language": "python",
     "metadata": {},
     "outputs": [
      {
       "output_type": "stream",
       "stream": "stdout",
       "text": [
        "\"Welcome to Text Mining for the Social Sciences. \\n\\nI'm having fun.\"\n"
       ]
      }
     ],
     "prompt_number": 11
    },
    {
     "cell_type": "markdown",
     "metadata": {},
     "source": [
      "You may wonder: what are the funny '\\n' characters in the string?  These are newline characters between the two sentences in the file.  If you want to create a list of each line in a file, you can apply splitlines() to the raw data from the file."
     ]
    },
    {
     "cell_type": "code",
     "collapsed": false,
     "input": [
      "lines = raw_data.splitlines()\n",
      "print lines\n",
      "\n",
      "lines = raw_data.split('\\n') # equivalent to above\n",
      "print lines\n",
      "\n",
      "with open('example1.txt','r') as file_obj:\n",
      "    lines = file_obj.read().splitlines() # all in one go!\n",
      "\n",
      "print lines"
     ],
     "language": "python",
     "metadata": {},
     "outputs": [
      {
       "output_type": "stream",
       "stream": "stdout",
       "text": [
        "['Welcome to Text Mining for the Social Sciences. ', '', \"I'm having fun.\"]\n",
        "['Welcome to Text Mining for the Social Sciences. ', '', \"I'm having fun.\"]\n",
        "['Welcome to Text Mining for the Social Sciences. ', '', \"I'm having fun.\"]\n"
       ]
      }
     ],
     "prompt_number": 12
    },
    {
     "cell_type": "markdown",
     "metadata": {},
     "source": [
      "Now suppose we want to remove the trailing whitespace in the first line.  The strip() method can be used to do this.  We can also remove empty lines using a list comprehension."
     ]
    },
    {
     "cell_type": "code",
     "collapsed": false,
     "input": [
      "# if you want to strip non-whitespace characters from beginning and end of string, pass argument to strip\n",
      "lines[0] = lines[0].strip()\n",
      "\n",
      "lines = [line for line in lines if line != '']\n",
      "print lines"
     ],
     "language": "python",
     "metadata": {},
     "outputs": [
      {
       "output_type": "stream",
       "stream": "stdout",
       "text": [
        "['Welcome to Text Mining for the Social Sciences.', \"I'm having fun.\"]\n"
       ]
      }
     ],
     "prompt_number": 13
    },
    {
     "cell_type": "markdown",
     "metadata": {},
     "source": [
      "Now suppose we want to add a third sentence, and want to write the result into a new file with one sentence on each line.  The following code will achieve this."
     ]
    },
    {
     "cell_type": "code",
     "collapsed": false,
     "input": [
      "lines.append('Isn\\'t everyone?') # add another element to lines\n",
      "\n",
      "with open('test_write.txt','w') as file_obj:\n",
      "    for line in lines:\n",
      "        file_obj.write(line + '\\n')"
     ],
     "language": "python",
     "metadata": {},
     "outputs": [],
     "prompt_number": 14
    },
    {
     "cell_type": "markdown",
     "metadata": {},
     "source": [
      "Note that the above code combines several of the elements we have discussed.  For example, the sentence we added involved escaping an apostrophe, and we opened a file in write instead of read mode.  We now use the write rather than read method on the file_obj, and pass the string we want to write.  Here we write a concatenated string we form with the + operator that adds a new line to each string as we write it to file."
     ]
    },
    {
     "cell_type": "heading",
     "level": 2,
     "metadata": {},
     "source": [
      "String Encoding"
     ]
    },
    {
     "cell_type": "markdown",
     "metadata": {},
     "source": [
      "Now let's read in the string from the second example file, which is the Spanish sentence 'Qu\u00e9 tal colega?', and the see how the string is represented in bytes."
     ]
    },
    {
     "cell_type": "code",
     "collapsed": false,
     "input": [
      "with open('example2.txt','r') as file_obj:\n",
      "    raw_data = file_obj.read()\n",
      "    \n",
      "print repr(raw_data)"
     ],
     "language": "python",
     "metadata": {},
     "outputs": [
      {
       "output_type": "stream",
       "stream": "stdout",
       "text": [
        "'Qu\\xc3\\xa9 tal colega?'\n"
       ]
      }
     ],
     "prompt_number": 15
    },
    {
     "cell_type": "markdown",
     "metadata": {},
     "source": [
      "Notice that something strange has happened with the accented e.  It is now represented by '\\xc3\\xa9'.  Moreover, as we can see from printing each character of the first word, each is a separate character."
     ]
    },
    {
     "cell_type": "code",
     "collapsed": false,
     "input": [
      "words = raw_data.split()\n",
      "print \"number of characters in first words =\", len(words[0])\n",
      "for character in words[0]: print character"
     ],
     "language": "python",
     "metadata": {},
     "outputs": [
      {
       "output_type": "stream",
       "stream": "stdout",
       "text": [
        "number of characters in first words = 4\n",
        "Q\n",
        "u\n",
        "\ufffd\n",
        "\ufffd\n"
       ]
      }
     ],
     "prompt_number": 16
    },
    {
     "cell_type": "markdown",
     "metadata": {},
     "source": [
      "This seems like very strange behavior.  We know that the first word in the string is 'Qu\u00e9', which is three characters, but the string we read in replaces the \u00e9 with two characters.  Moreover, when we try to print each character separately, the Python interpreter does not recognize them, and prints a question mark.\n",
      "\n",
      "To understand the mystery, a bit of background knowledge is helpful (a more detailed discussion is available from http://www.joelonsoftware.com/articles/Unicode.html.  Early computers used a standard (ASCII) character set consisting of non-decorated Latin characters ('A', 'a', 'B', 'b', etc.) and basic punctuation (',', '?', etc.).  Clearly this character set places severe limitations on the ability of non-English speakers to digitize their languages.  The adoption of the Unicode standard solves this problem by associating a large number of characters (Arabic letters, Hebrew letters, Chinese characters, etc) with a particular code.  You can look up all the codes on http://www.unicode.org/, and actually find the code for \u00e9 with a bit of effort from http://www.unicode.org/charts/PDF/U0080.pdf --- 00E9.\n",
      "\n",
      "So what is this '\\xc3\\xa9'?  First note that in Python, \\x is an escape character in a string that indicates the following two characters should be interpreted as hexadecimal digits.  So '\\xc3\\xa9' represents the sequence of hexadecimal digits 'c3' and 'a9', which probably hasn't clarified too much!  (Note that a byte of memory can take values in the range 0 to 255, and programmers often prefer to denote these values with hexadecimal, or base 16, numbers rather than decimal, or base 10, numbers).\n",
      "\n",
      "More substantively, while unicode associates each character to an abstract code, it does not tell us how to represent that code in our files.  You might think that the IT world could also adopt a universal standard for encoding unicode characters, but it turns out it hasn't for reasons beyond our scope.  The most popular encoding is something called UTF-8, which stores ASCII characters in one byte, and non-ASCII characters in two bytes.  It turns out the file example2.txt has a UTF-8 encoding, which represents 00E9 with the hexademical digit sequence c3 and a9, which you can see from http://www.utf8-chartable.de/.\n",
      "\n",
      "Now, the crucial point: we have to tell Python the encoding of the file when we read it in so that it knows to map c3 a9 into the unicode character for \u00e9, or 00e9!  Incorrect string encodings can cause all kinds of headaches when working with text data, so from now on please get in the habit of always thinking of raw text data as a set of symbols that needs to be associated with a map that tells us what characters the symbols map into.\n",
      "\n",
      "In Python, we can use the codecs module to specify the file encoding as follows. "
     ]
    },
    {
     "cell_type": "code",
     "collapsed": false,
     "input": [
      "import codecs\n",
      "\n",
      "with codecs.open('example2.txt','r','utf-8') as file_obj:\n",
      "    raw_data = file_obj.read()\n",
      "    \n",
      "print repr(raw_data)\n",
      "\n",
      "words = raw_data.split()\n",
      "print \"number of characters in first words =\", len(words[0])\n",
      "for character in words[0]: print character"
     ],
     "language": "python",
     "metadata": {},
     "outputs": [
      {
       "output_type": "stream",
       "stream": "stdout",
       "text": [
        "u'Qu\\xe9 tal colega?'\n",
        "number of characters in first words = 3\n",
        "Q\n",
        "u\n",
        "\u00e9\n"
       ]
      }
     ],
     "prompt_number": 17
    },
    {
     "cell_type": "markdown",
     "metadata": {},
     "source": [
      "Now that we have specified the encoding, we get the expected behavior.  Note that the string which was before represented as 'Qu\\xc3\\xa9 tal colega?' is now represented as u'Qu\\xe9 tal colega?'.  There are two differences.  First, the unicode representation of \u00e9 e9 has now replaced the utf-8 encoding c3 a9.  Also, the string now carries a u in front, which denotes that it is a unicode string.\n",
      "\n",
      "One can also decode strings directly in Python as shown below."
     ]
    },
    {
     "cell_type": "code",
     "collapsed": false,
     "input": [
      "'\\xc3\\xa9'.decode('utf-8') # takes the encoded string \\xc3\\xa9 and maps to unicode using the utf-8 character mapping"
     ],
     "language": "python",
     "metadata": {},
     "outputs": [
      {
       "metadata": {},
       "output_type": "pyout",
       "prompt_number": 18,
       "text": [
        "u'\\xe9'"
       ]
      }
     ],
     "prompt_number": 18
    },
    {
     "cell_type": "code",
     "collapsed": false,
     "input": [
      "u'\\xe9'.encode('utf-8') # takes the unicode string \\xe9 and converts it into its utf-8 representation"
     ],
     "language": "python",
     "metadata": {},
     "outputs": [
      {
       "metadata": {},
       "output_type": "pyout",
       "prompt_number": 19,
       "text": [
        "'\\xc3\\xa9'"
       ]
      }
     ],
     "prompt_number": 19
    },
    {
     "cell_type": "markdown",
     "metadata": {},
     "source": [
      "Everything worked out here because I knew in advance the file example2.txt had a utf-8 encoding, but in general if you don't know a file's (or string's) encoding, there is no fool-proof way to find out what it is.  utf-8 is usually a good guess, especially for text from the web, but by no means universal.  One hack around the issue is to specify utf-8 in codecs.open, and then pass the 'ignore' argument that tells Python to simply skip characters it can't decode using utf-8."
     ]
    },
    {
     "cell_type": "heading",
     "level": 2,
     "metadata": {},
     "source": [
      "Finding Patterns in Strings"
     ]
    },
    {
     "cell_type": "markdown",
     "metadata": {},
     "source": [
      "Once we have a string, a common task is to find particular substrings.  If we know the exact substring we want to match, we can easily find out if a string contains it, and where it is located."
     ]
    },
    {
     "cell_type": "code",
     "collapsed": false,
     "input": [
      "print 'Text' in example_string\n",
      "print 'text' in example_string # make sure you pay attention to capitalization!\n",
      "print example_string.find('Text') # index of example_string at which 'Text' begins (smallest index returned if multiple matches)"
     ],
     "language": "python",
     "metadata": {},
     "outputs": [
      {
       "output_type": "stream",
       "stream": "stdout",
       "text": [
        "True\n",
        "False\n",
        "11\n"
       ]
      }
     ],
     "prompt_number": 20
    },
    {
     "cell_type": "markdown",
     "metadata": {},
     "source": [
      "In many cases, we don't know the exact substring we want to match, but would prefer to search for sets of characters.  Python has a regular expression module that allows for this, using Perl-like constructions.  Full documentation is available on https://docs.python.org/2/library/re.html.  The area of regular expressions is quite large and complex, and here we will just provide the briefest of introductions.\n",
      "\n",
      "Let's suppose we want to test whether example_string contains either 'Text' or 'text'.  The first step in using regular expressions is to specify the substring of interest.  To construct this efficiently, we'd like to search for a substring whose first character is either 'T' or 't' and whose remaining three characters are precisely 'ext'.  Let's import the regular expression module and do this below."
     ]
    },
    {
     "cell_type": "code",
     "collapsed": false,
     "input": [
      "import re\n",
      "test_regex = re.compile(\"[Tt]ext\")"
     ],
     "language": "python",
     "metadata": {},
     "outputs": [],
     "prompt_number": 21
    },
    {
     "cell_type": "markdown",
     "metadata": {},
     "source": [
      "The [] brackets define a set of characters, any one of which can be matched in the substring.  So this regular expression will match any string whose first character is either 'T' or 't' followed by 'text', exactly what we wanted.  We can then find all substrings that match test_regex."
     ]
    },
    {
     "cell_type": "code",
     "collapsed": false,
     "input": [
      "print re.findall(test_regex,example_string)"
     ],
     "language": "python",
     "metadata": {},
     "outputs": [
      {
       "output_type": "stream",
       "stream": "stdout",
       "text": [
        "['Text']\n"
       ]
      }
     ],
     "prompt_number": 22
    },
    {
     "cell_type": "markdown",
     "metadata": {},
     "source": [
      "Now suppose we want to find all capitalized letters in example_string.  Ideally we don't want to have to enclose all 26 capitalized letters in brackets.  Luckily, we can denote this sequence as A-Z."
     ]
    },
    {
     "cell_type": "code",
     "collapsed": false,
     "input": [
      "test_regex = re.compile(\"[A-Z]\")\n",
      "print re.findall(test_regex,example_string)"
     ],
     "language": "python",
     "metadata": {},
     "outputs": [
      {
       "output_type": "stream",
       "stream": "stdout",
       "text": [
        "['W', 'T', 'M', 'S', 'S', 'I']\n"
       ]
      }
     ],
     "prompt_number": 23
    },
    {
     "cell_type": "markdown",
     "metadata": {},
     "source": [
      "Now suppose we want to match any capitalized word in a string.  Now we want to make a construction of the form \"match any string whose first characters takes a value between A and Z, followed by an arbitrary number of characters that take a value in a-z.\"  The regular expression [A-Z][a-z] gets us part of the way.  This would match any string whose first character lies in A-Z and whose second character lies in a-z.  How can we get this second character to repeat?  * is a special symbol that means \"match 0 or more occurences of the preceeding expression.\"  Just what we need!  (+ is a symbol that matches 1 or more occurences). "
     ]
    },
    {
     "cell_type": "code",
     "collapsed": false,
     "input": [
      "test_regex = re.compile(\"[A-Z][a-z]*\")\n",
      "print re.findall(test_regex,example_string)"
     ],
     "language": "python",
     "metadata": {},
     "outputs": [
      {
       "output_type": "stream",
       "stream": "stdout",
       "text": [
        "['Welcome', 'Text', 'Mining', 'Social', 'Sciences', 'I']\n"
       ]
      }
     ],
     "prompt_number": 24
    },
    {
     "cell_type": "markdown",
     "metadata": {},
     "source": [
      "Notice that we only matched the 'I' in 'I'm' since we didn't specify that an apostrophe could also be matched.  We could easily correct this by adding it to the set of characters we can match. "
     ]
    },
    {
     "cell_type": "code",
     "collapsed": false,
     "input": [
      "test_regex = re.compile(\"[A-Z][a-z\\']*\")\n",
      "print re.findall(test_regex,example_string)"
     ],
     "language": "python",
     "metadata": {},
     "outputs": [
      {
       "output_type": "stream",
       "stream": "stdout",
       "text": [
        "['Welcome', 'Text', 'Mining', 'Social', 'Sciences', \"I'm\"]\n"
       ]
      }
     ],
     "prompt_number": 25
    },
    {
     "cell_type": "markdown",
     "metadata": {},
     "source": [
      "Care must be taken when using the * symbol because it performs a greedy match by default, i.e. it tries to match as long a substring as possible that is compatible with the regular expressions.  This is illustrated in the following example."
     ]
    },
    {
     "cell_type": "code",
     "collapsed": false,
     "input": [
      "example_string2 = \"\\\"Where are you?\\\" asked the mother.  \\\"I am here,\\\" said the child.\"\n",
      "test_regex = re.compile(\"\\\".*\\\"\")\n",
      "print re.findall(test_regex,example_string2)"
     ],
     "language": "python",
     "metadata": {},
     "outputs": [
      {
       "output_type": "stream",
       "stream": "stdout",
       "text": [
        "['\"Where are you?\" asked the mother.  \"I am here,\"']\n"
       ]
      }
     ],
     "prompt_number": 26
    },
    {
     "cell_type": "markdown",
     "metadata": {},
     "source": [
      "Here we have the new '.' symbol.  This matches any character expect a newline.  (To search for a period, escape the . inside the regular expression with the backslash).  So this regular expression matches a double quotation mark followed by zero or more of any other character, followed by a double quotation mark.  There are numerous substrings satisfying these criteria in example_string2, and by default we have found the longest such substring.\n",
      "\n",
      "Suppose instead we wanted the shorter substrings that match (i.e. the separate quotations of the mother and child).  We can instead specify a minimal search by placing a ? after * as follows."
     ]
    },
    {
     "cell_type": "code",
     "collapsed": false,
     "input": [
      "test_regex = re.compile(\"\\\".*?\\\"\")\n",
      "print re.findall(test_regex,example_string2)"
     ],
     "language": "python",
     "metadata": {},
     "outputs": [
      {
       "output_type": "stream",
       "stream": "stdout",
       "text": [
        "['\"Where are you?\"', '\"I am here,\"']\n"
       ]
      }
     ],
     "prompt_number": 27
    },
    {
     "cell_type": "markdown",
     "metadata": {},
     "source": [
      "As noted above, these toy examples just scratch the surface of what one can do with regular expressions in Python.  I will give you some practice assignments on them, but it will take time to build up your profiency in them."
     ]
    }
   ],
   "metadata": {}
  }
 ]
}
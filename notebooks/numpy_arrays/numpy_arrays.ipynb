{
 "metadata": {
  "name": "",
  "signature": "sha256:c53507128de24bf11790658a658a7eb5930f5fb1744a1c156d3c2a659604ef8b"
 },
 "nbformat": 3,
 "nbformat_minor": 0,
 "worksheets": [
  {
   "cells": [
    {
     "cell_type": "markdown",
     "metadata": {},
     "source": [
      "A fundamental object for scientific computing in Python is the numpy array.  On the surface, a one-dimensional numpy array resembles a Python list.  For example, a numpy array can be sliced in the same way a list can, each has a len function, and so on.  But beneath the surface, a numpy array is stored differently, and more efficiently, than a list.  This can significantly improve performance both when computing functions and accessing individual elements, as the following example illustrates."
     ]
    },
    {
     "cell_type": "code",
     "collapsed": false,
     "input": [
      "import numpy as np\n",
      "\n",
      "my_list = range(10000)\n",
      "%timeit sum(my_list)\n",
      "\n",
      "my_array = np.array(my_list)\n",
      "%timeit my_array.sum()"
     ],
     "language": "python",
     "metadata": {},
     "outputs": [
      {
       "output_type": "stream",
       "stream": "stdout",
       "text": [
        "10000 loops, best of 3: 65.3 \u00b5s per loop\n",
        "100000 loops, best of 3: 6.83 \u00b5s per loop"
       ]
      },
      {
       "output_type": "stream",
       "stream": "stdout",
       "text": [
        "\n"
       ]
      }
     ],
     "prompt_number": 1
    },
    {
     "cell_type": "markdown",
     "metadata": {},
     "source": [
      "The above example illustrates the creation of an array by passing a list, but you can also create numpy arrays directly with certain functions."
     ]
    },
    {
     "cell_type": "code",
     "collapsed": false,
     "input": [
      "my_array1 = np.zeros(10)\n",
      "print my_array1\n",
      "\n",
      "my_array2 = np.ones(10)\n",
      "print my_array2\n",
      "\n",
      "my_array3 = np.random.randint(1,5,10)\n",
      "print my_array3"
     ],
     "language": "python",
     "metadata": {},
     "outputs": [
      {
       "output_type": "stream",
       "stream": "stdout",
       "text": [
        "[ 0.  0.  0.  0.  0.  0.  0.  0.  0.  0.]\n",
        "[ 1.  1.  1.  1.  1.  1.  1.  1.  1.  1.]\n",
        "[3 3 4 4 4 3 1 3 4 1]\n"
       ]
      }
     ],
     "prompt_number": 2
    },
    {
     "cell_type": "markdown",
     "metadata": {},
     "source": [
      "Numpy has a large number of highly optimized mathematical functions that can be computed on each element of an array."
     ]
    },
    {
     "cell_type": "code",
     "collapsed": false,
     "input": [
      "print np.log(my_array3)\n",
      "print np.sin(my_array3)\n",
      "print np.i0(my_array3) # bessel function"
     ],
     "language": "python",
     "metadata": {},
     "outputs": [
      {
       "output_type": "stream",
       "stream": "stdout",
       "text": [
        "[ 1.09861229  1.09861229  1.38629436  1.38629436  1.38629436  1.09861229\n",
        "  0.          1.09861229  1.38629436  0.        ]\n",
        "[ 0.14112001  0.14112001 -0.7568025  -0.7568025  -0.7568025   0.14112001\n",
        "  0.84147098  0.14112001 -0.7568025   0.84147098]\n",
        "[ 4  4 11 11 11  4  1  4 11  1]\n"
       ]
      }
     ],
     "prompt_number": 3
    },
    {
     "cell_type": "markdown",
     "metadata": {},
     "source": [
      "Basic arithmetic operations can also be computed elementwise."
     ]
    },
    {
     "cell_type": "code",
     "collapsed": false,
     "input": [
      "from __future__ import division # Python gotcha!\n",
      "\n",
      "print my_array3 + 1\n",
      "print 1 / my_array3\n",
      "print my_array2 * my_array3"
     ],
     "language": "python",
     "metadata": {},
     "outputs": [
      {
       "output_type": "stream",
       "stream": "stdout",
       "text": [
        "[4 4 5 5 5 4 2 4 5 2]\n",
        "[ 0.33333333  0.33333333  0.25        0.25        0.25        0.33333333\n",
        "  1.          0.33333333  0.25        1.        ]\n",
        "[ 3.  3.  4.  4.  4.  3.  1.  3.  4.  1.]\n"
       ]
      }
     ],
     "prompt_number": 4
    },
    {
     "cell_type": "markdown",
     "metadata": {},
     "source": [
      "Arrays can also have as many dimensions as one would like.  A natural place to start is 2-dimensional array, or matrix."
     ]
    },
    {
     "cell_type": "code",
     "collapsed": false,
     "input": [
      "my_matrix = np.array([[1,2,3,4],[2,3,4,5]])\n",
      "print my_matrix.shape\n",
      "\n",
      "my_matrix = np.zeros((10,7))\n",
      "print my_matrix.shape\n",
      "\n",
      "my_matrix = my_array3.reshape(2,5)\n",
      "print my_matrix\n",
      "print my_matrix.shape"
     ],
     "language": "python",
     "metadata": {},
     "outputs": [
      {
       "output_type": "stream",
       "stream": "stdout",
       "text": [
        "(2, 4)\n",
        "(10, 7)\n",
        "[[3 3 4 4 4]\n",
        " [3 1 3 4 1]]\n",
        "(2, 5)\n"
       ]
      }
     ],
     "prompt_number": 5
    },
    {
     "cell_type": "markdown",
     "metadata": {},
     "source": [
      "One can then access individual array elements in the expected way, or entire rows and columns."
     ]
    },
    {
     "cell_type": "code",
     "collapsed": false,
     "input": [
      "print my_matrix\n",
      "print my_matrix[1,2] # second row, third column element\n",
      "print my_matrix[:,2] # third column"
     ],
     "language": "python",
     "metadata": {},
     "outputs": [
      {
       "output_type": "stream",
       "stream": "stdout",
       "text": [
        "[[3 3 4 4 4]\n",
        " [3 1 3 4 1]]\n",
        "3\n",
        "[4 3]\n"
       ]
      }
     ],
     "prompt_number": 6
    },
    {
     "cell_type": "markdown",
     "metadata": {},
     "source": [
      "Functions can then be applied to the entire array, or to an individual axis.  Axis 0 correponds to rows and axis 1 to columns."
     ]
    },
    {
     "cell_type": "code",
     "collapsed": false,
     "input": [
      "print my_matrix.sum()\n",
      "print my_matrix.sum(axis=0)\n",
      "print my_matrix.sum(axis=1)"
     ],
     "language": "python",
     "metadata": {},
     "outputs": [
      {
       "output_type": "stream",
       "stream": "stdout",
       "text": [
        "30\n",
        "[6 4 7 8 5]\n",
        "[18 12]\n"
       ]
      }
     ],
     "prompt_number": 7
    },
    {
     "cell_type": "markdown",
     "metadata": {},
     "source": [
      "Recall in class that we discussed the document-term and incidence matrices.  One could easily construct the latter from the former using np.where, which verifies whether each element of an array satisifies a logical condition.  Further arguments can then be used to code array values."
     ]
    },
    {
     "cell_type": "code",
     "collapsed": false,
     "input": [
      "my_doc_term = np.random.randint(0,3,20).reshape(5,4) # five docs, four terms\n",
      "print my_doc_term\n",
      "print np.where(my_doc_term > 0) # returns indices for which condition is true\n",
      "print np.where(my_doc_term > 0,0,1) # returns incidence matrix"
     ],
     "language": "python",
     "metadata": {},
     "outputs": [
      {
       "output_type": "stream",
       "stream": "stdout",
       "text": [
        "[[0 2 2 2]\n",
        " [0 2 2 0]\n",
        " [0 0 0 1]\n",
        " [2 0 2 0]\n",
        " [0 0 0 1]]\n",
        "(array([0, 0, 0, 1, 1, 2, 3, 3, 4]), array([1, 2, 3, 1, 2, 3, 0, 2, 3]))\n",
        "[[1 0 0 0]\n",
        " [1 0 0 1]\n",
        " [1 1 1 0]\n",
        " [0 1 0 1]\n",
        " [1 1 1 0]]\n"
       ]
      }
     ],
     "prompt_number": 8
    },
    {
     "cell_type": "markdown",
     "metadata": {},
     "source": [
      "Finally, suppose we'd like to divide each row of a matrix by a vector whose length equals the number of columns.  Numpy seems to handle this pretty well."
     ]
    },
    {
     "cell_type": "code",
     "collapsed": false,
     "input": [
      "my_vec = np.array([1,2,3,4])\n",
      "print my_doc_term / my_vec"
     ],
     "language": "python",
     "metadata": {},
     "outputs": [
      {
       "output_type": "stream",
       "stream": "stdout",
       "text": [
        "[[ 0.          1.          0.66666667  0.5       ]\n",
        " [ 0.          1.          0.66666667  0.        ]\n",
        " [ 0.          0.          0.          0.25      ]\n",
        " [ 2.          0.          0.66666667  0.        ]\n",
        " [ 0.          0.          0.          0.25      ]]\n"
       ]
      }
     ],
     "prompt_number": 9
    },
    {
     "cell_type": "markdown",
     "metadata": {},
     "source": [
      "What if we wanted to divide each column by a vector whose length was equal to the number of rows?"
     ]
    },
    {
     "cell_type": "code",
     "collapsed": false,
     "input": [
      "my_vec = np.array([1,2,3,4,5])\n",
      "print my_doc_term / my_vec"
     ],
     "language": "python",
     "metadata": {},
     "outputs": [
      {
       "ename": "ValueError",
       "evalue": "operands could not be broadcast together with shapes (5,4) (5,) ",
       "output_type": "pyerr",
       "traceback": [
        "\u001b[0;31m---------------------------------------------------------------------------\u001b[0m\n\u001b[0;31mValueError\u001b[0m                                Traceback (most recent call last)",
        "\u001b[0;32m<ipython-input-10-bdc2e0156ed4>\u001b[0m in \u001b[0;36m<module>\u001b[0;34m()\u001b[0m\n\u001b[1;32m      1\u001b[0m \u001b[0mmy_vec\u001b[0m \u001b[0;34m=\u001b[0m \u001b[0mnp\u001b[0m\u001b[0;34m.\u001b[0m\u001b[0marray\u001b[0m\u001b[0;34m(\u001b[0m\u001b[0;34m[\u001b[0m\u001b[0;36m1\u001b[0m\u001b[0;34m,\u001b[0m\u001b[0;36m2\u001b[0m\u001b[0;34m,\u001b[0m\u001b[0;36m3\u001b[0m\u001b[0;34m,\u001b[0m\u001b[0;36m4\u001b[0m\u001b[0;34m,\u001b[0m\u001b[0;36m5\u001b[0m\u001b[0;34m]\u001b[0m\u001b[0;34m)\u001b[0m\u001b[0;34m\u001b[0m\u001b[0m\n\u001b[0;32m----> 2\u001b[0;31m \u001b[0;32mprint\u001b[0m \u001b[0mmy_doc_term\u001b[0m \u001b[0;34m/\u001b[0m \u001b[0mmy_vec\u001b[0m\u001b[0;34m\u001b[0m\u001b[0m\n\u001b[0m",
        "\u001b[0;31mValueError\u001b[0m: operands could not be broadcast together with shapes (5,4) (5,) "
       ]
      }
     ],
     "prompt_number": 10
    },
    {
     "cell_type": "markdown",
     "metadata": {},
     "source": [
      "Numpy has thrown a ValueError regarding \"broadcasting\".  (A more in depth discussion of broadcasting is http://docs.scipy.org/doc/numpy/user/basics.broadcasting.html).  Broadcasting refers to the rules that numpy uses when asked to perform basic operations on two arrays of different dimensions.  In this case, what happens behind the scenes is that if the right-most dimension matches (or is 1), the smaller dimensional object is \"replicated\" in such a way that its dimensionality is the same as the higher dimensional object, and the regular elementwise operations are performed.  In fact, we already used broadcasting above when we added 1 to my_array3.  While the first division example above satisfied broadcasting rules (the trailing dimension of each array is 4), the second did not.  This seems like a pain.  Luckily, there is quick trick that one can use: turn the vector into a two-dimensional array whose second dimension is 1."
     ]
    },
    {
     "cell_type": "code",
     "collapsed": false,
     "input": [
      "new_vec = my_vec[:,np.newaxis]\n",
      "print new_vec.shape # dimensionality of new array\n",
      "print my_doc_term / new_vec # just what we wanted!"
     ],
     "language": "python",
     "metadata": {},
     "outputs": [
      {
       "output_type": "stream",
       "stream": "stdout",
       "text": [
        "(5, 1)\n",
        "[[ 0.          2.          2.          2.        ]\n",
        " [ 0.          1.          1.          0.        ]\n",
        " [ 0.          0.          0.          0.33333333]\n",
        " [ 0.5         0.          0.5         0.        ]\n",
        " [ 0.          0.          0.          0.2       ]]\n"
       ]
      }
     ],
     "prompt_number": 11
    },
    {
     "cell_type": "markdown",
     "metadata": {},
     "source": [
      "Finally, if we want to save a numpy array for later use, a generally good solution is to store it within a .npy file created using the np.save command.  We can then reload the array back into memory using np.load."
     ]
    },
    {
     "cell_type": "code",
     "collapsed": false,
     "input": [
      "np.save(\"temp.npy\",my_doc_term)\n",
      "test = np.load(\"temp.npy\")\n",
      "print test"
     ],
     "language": "python",
     "metadata": {},
     "outputs": [
      {
       "output_type": "stream",
       "stream": "stdout",
       "text": [
        "[[0 2 2 2]\n",
        " [0 2 2 0]\n",
        " [0 0 0 1]\n",
        " [2 0 2 0]\n",
        " [0 0 0 1]]\n"
       ]
      }
     ],
     "prompt_number": 12
    },
    {
     "cell_type": "markdown",
     "metadata": {},
     "source": [
      "This discussion of numpy is obviously incomplete, but should be useful in getting you started on your coding assignments.  A more thorough introduction is https://scipy-lectures.github.io/intro/numpy/index.html."
     ]
    }
   ],
   "metadata": {}
  }
 ]
}